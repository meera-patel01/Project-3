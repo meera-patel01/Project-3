{
 "cells": [
  {
   "cell_type": "code",
   "execution_count": 1,
   "id": "59eb4480",
   "metadata": {},
   "outputs": [
    {
     "name": "stdout",
     "output_type": "stream",
     "text": [
      "Requirement already satisfied: streamlit in c:\\users\\meera\\anaconda3\\lib\\site-packages (1.30.0)\n",
      "Requirement already satisfied: altair<6,>=4.0 in c:\\users\\meera\\anaconda3\\lib\\site-packages (from streamlit) (5.2.0)\n",
      "Requirement already satisfied: blinker<2,>=1.0.0 in c:\\users\\meera\\anaconda3\\lib\\site-packages (from streamlit) (1.7.0)\n",
      "Requirement already satisfied: cachetools<6,>=4.0 in c:\\users\\meera\\anaconda3\\lib\\site-packages (from streamlit) (5.3.2)\n",
      "Requirement already satisfied: click<9,>=7.0 in c:\\users\\meera\\anaconda3\\lib\\site-packages (from streamlit) (8.0.4)\n",
      "Requirement already satisfied: importlib-metadata<8,>=1.4 in c:\\users\\meera\\anaconda3\\lib\\site-packages (from streamlit) (6.0.0)\n",
      "Requirement already satisfied: numpy<2,>=1.19.3 in c:\\users\\meera\\anaconda3\\lib\\site-packages (from streamlit) (1.24.3)\n",
      "Requirement already satisfied: packaging<24,>=16.8 in c:\\users\\meera\\anaconda3\\lib\\site-packages (from streamlit) (23.1)\n",
      "Requirement already satisfied: pandas<3,>=1.3.0 in c:\\users\\meera\\anaconda3\\lib\\site-packages (from streamlit) (2.0.3)\n",
      "Requirement already satisfied: pillow<11,>=7.1.0 in c:\\users\\meera\\anaconda3\\lib\\site-packages (from streamlit) (9.4.0)\n",
      "Requirement already satisfied: protobuf<5,>=3.20 in c:\\users\\meera\\anaconda3\\lib\\site-packages (from streamlit) (4.25.2)\n",
      "Requirement already satisfied: pyarrow>=6.0 in c:\\users\\meera\\anaconda3\\lib\\site-packages (from streamlit) (11.0.0)\n",
      "Requirement already satisfied: python-dateutil<3,>=2.7.3 in c:\\users\\meera\\anaconda3\\lib\\site-packages (from streamlit) (2.8.2)\n",
      "Requirement already satisfied: requests<3,>=2.27 in c:\\users\\meera\\anaconda3\\lib\\site-packages (from streamlit) (2.31.0)\n",
      "Requirement already satisfied: rich<14,>=10.14.0 in c:\\users\\meera\\anaconda3\\lib\\site-packages (from streamlit) (13.7.0)\n",
      "Requirement already satisfied: tenacity<9,>=8.1.0 in c:\\users\\meera\\anaconda3\\lib\\site-packages (from streamlit) (8.2.2)\n",
      "Requirement already satisfied: toml<2,>=0.10.1 in c:\\users\\meera\\anaconda3\\lib\\site-packages (from streamlit) (0.10.2)\n",
      "Requirement already satisfied: typing-extensions<5,>=4.3.0 in c:\\users\\meera\\anaconda3\\lib\\site-packages (from streamlit) (4.7.1)\n",
      "Requirement already satisfied: tzlocal<6,>=1.1 in c:\\users\\meera\\anaconda3\\lib\\site-packages (from streamlit) (5.2)\n",
      "Requirement already satisfied: validators<1,>=0.2 in c:\\users\\meera\\anaconda3\\lib\\site-packages (from streamlit) (0.22.0)\n",
      "Requirement already satisfied: gitpython!=3.1.19,<4,>=3.0.7 in c:\\users\\meera\\anaconda3\\lib\\site-packages (from streamlit) (3.1.41)\n",
      "Requirement already satisfied: pydeck<1,>=0.8.0b4 in c:\\users\\meera\\anaconda3\\lib\\site-packages (from streamlit) (0.8.1b0)\n",
      "Requirement already satisfied: tornado<7,>=6.0.3 in c:\\users\\meera\\anaconda3\\lib\\site-packages (from streamlit) (6.3.2)\n",
      "Requirement already satisfied: watchdog>=2.1.5 in c:\\users\\meera\\anaconda3\\lib\\site-packages (from streamlit) (2.1.6)\n",
      "Requirement already satisfied: jinja2 in c:\\users\\meera\\anaconda3\\lib\\site-packages (from altair<6,>=4.0->streamlit) (3.1.2)\n",
      "Requirement already satisfied: jsonschema>=3.0 in c:\\users\\meera\\anaconda3\\lib\\site-packages (from altair<6,>=4.0->streamlit) (4.17.3)\n",
      "Requirement already satisfied: toolz in c:\\users\\meera\\anaconda3\\lib\\site-packages (from altair<6,>=4.0->streamlit) (0.12.0)\n",
      "Requirement already satisfied: colorama in c:\\users\\meera\\anaconda3\\lib\\site-packages (from click<9,>=7.0->streamlit) (0.4.6)\n",
      "Requirement already satisfied: gitdb<5,>=4.0.1 in c:\\users\\meera\\anaconda3\\lib\\site-packages (from gitpython!=3.1.19,<4,>=3.0.7->streamlit) (4.0.11)\n",
      "Requirement already satisfied: zipp>=0.5 in c:\\users\\meera\\anaconda3\\lib\\site-packages (from importlib-metadata<8,>=1.4->streamlit) (3.11.0)\n",
      "Requirement already satisfied: pytz>=2020.1 in c:\\users\\meera\\anaconda3\\lib\\site-packages (from pandas<3,>=1.3.0->streamlit) (2023.3.post1)\n",
      "Requirement already satisfied: tzdata>=2022.1 in c:\\users\\meera\\anaconda3\\lib\\site-packages (from pandas<3,>=1.3.0->streamlit) (2023.3)\n",
      "Requirement already satisfied: six>=1.5 in c:\\users\\meera\\anaconda3\\lib\\site-packages (from python-dateutil<3,>=2.7.3->streamlit) (1.16.0)\n",
      "Requirement already satisfied: charset-normalizer<4,>=2 in c:\\users\\meera\\anaconda3\\lib\\site-packages (from requests<3,>=2.27->streamlit) (2.0.4)\n",
      "Requirement already satisfied: idna<4,>=2.5 in c:\\users\\meera\\anaconda3\\lib\\site-packages (from requests<3,>=2.27->streamlit) (3.4)\n",
      "Requirement already satisfied: urllib3<3,>=1.21.1 in c:\\users\\meera\\anaconda3\\lib\\site-packages (from requests<3,>=2.27->streamlit) (1.26.16)\n",
      "Requirement already satisfied: certifi>=2017.4.17 in c:\\users\\meera\\anaconda3\\lib\\site-packages (from requests<3,>=2.27->streamlit) (2023.7.22)\n",
      "Requirement already satisfied: markdown-it-py>=2.2.0 in c:\\users\\meera\\anaconda3\\lib\\site-packages (from rich<14,>=10.14.0->streamlit) (2.2.0)\n",
      "Requirement already satisfied: pygments<3.0.0,>=2.13.0 in c:\\users\\meera\\anaconda3\\lib\\site-packages (from rich<14,>=10.14.0->streamlit) (2.15.1)\n",
      "Requirement already satisfied: smmap<6,>=3.0.1 in c:\\users\\meera\\anaconda3\\lib\\site-packages (from gitdb<5,>=4.0.1->gitpython!=3.1.19,<4,>=3.0.7->streamlit) (5.0.1)\n",
      "Requirement already satisfied: MarkupSafe>=2.0 in c:\\users\\meera\\anaconda3\\lib\\site-packages (from jinja2->altair<6,>=4.0->streamlit) (2.1.1)\n",
      "Requirement already satisfied: attrs>=17.4.0 in c:\\users\\meera\\anaconda3\\lib\\site-packages (from jsonschema>=3.0->altair<6,>=4.0->streamlit) (23.1.0)\n",
      "Requirement already satisfied: pyrsistent!=0.17.0,!=0.17.1,!=0.17.2,>=0.14.0 in c:\\users\\meera\\anaconda3\\lib\\site-packages (from jsonschema>=3.0->altair<6,>=4.0->streamlit) (0.18.0)\n",
      "Requirement already satisfied: mdurl~=0.1 in c:\\users\\meera\\anaconda3\\lib\\site-packages (from markdown-it-py>=2.2.0->rich<14,>=10.14.0->streamlit) (0.1.0)\n",
      "Note: you may need to restart the kernel to use updated packages.\n"
     ]
    }
   ],
   "source": [
    "pip install streamlit"
   ]
  },
  {
   "cell_type": "code",
   "execution_count": 2,
   "id": "07ac670a",
   "metadata": {},
   "outputs": [
    {
     "name": "stdout",
     "output_type": "stream",
     "text": [
      "Requirement already satisfied: folium in c:\\users\\meera\\anaconda3\\lib\\site-packages (0.15.1)\n",
      "Requirement already satisfied: branca>=0.6.0 in c:\\users\\meera\\anaconda3\\lib\\site-packages (from folium) (0.7.0)\n",
      "Requirement already satisfied: jinja2>=2.9 in c:\\users\\meera\\anaconda3\\lib\\site-packages (from folium) (3.1.2)\n",
      "Requirement already satisfied: numpy in c:\\users\\meera\\anaconda3\\lib\\site-packages (from folium) (1.24.3)\n",
      "Requirement already satisfied: requests in c:\\users\\meera\\anaconda3\\lib\\site-packages (from folium) (2.31.0)\n",
      "Requirement already satisfied: xyzservices in c:\\users\\meera\\anaconda3\\lib\\site-packages (from folium) (2022.9.0)\n",
      "Requirement already satisfied: MarkupSafe>=2.0 in c:\\users\\meera\\anaconda3\\lib\\site-packages (from jinja2>=2.9->folium) (2.1.1)\n",
      "Requirement already satisfied: charset-normalizer<4,>=2 in c:\\users\\meera\\anaconda3\\lib\\site-packages (from requests->folium) (2.0.4)\n",
      "Requirement already satisfied: idna<4,>=2.5 in c:\\users\\meera\\anaconda3\\lib\\site-packages (from requests->folium) (3.4)\n",
      "Requirement already satisfied: urllib3<3,>=1.21.1 in c:\\users\\meera\\anaconda3\\lib\\site-packages (from requests->folium) (1.26.16)\n",
      "Requirement already satisfied: certifi>=2017.4.17 in c:\\users\\meera\\anaconda3\\lib\\site-packages (from requests->folium) (2023.7.22)\n",
      "Note: you may need to restart the kernel to use updated packages.\n"
     ]
    }
   ],
   "source": [
    "pip install folium"
   ]
  },
  {
   "cell_type": "code",
   "execution_count": 3,
   "id": "e727cd2a",
   "metadata": {},
   "outputs": [
    {
     "name": "stdout",
     "output_type": "stream",
     "text": [
      "Requirement already satisfied: streamlit-folium in c:\\users\\meera\\anaconda3\\lib\\site-packages (0.18.0)\n",
      "Requirement already satisfied: streamlit>=1.13.0 in c:\\users\\meera\\anaconda3\\lib\\site-packages (from streamlit-folium) (1.30.0)\n",
      "Requirement already satisfied: folium!=0.15.0,>=0.13 in c:\\users\\meera\\anaconda3\\lib\\site-packages (from streamlit-folium) (0.15.1)\n",
      "Requirement already satisfied: jinja2 in c:\\users\\meera\\anaconda3\\lib\\site-packages (from streamlit-folium) (3.1.2)\n",
      "Requirement already satisfied: branca in c:\\users\\meera\\anaconda3\\lib\\site-packages (from streamlit-folium) (0.7.0)\n",
      "Requirement already satisfied: numpy in c:\\users\\meera\\anaconda3\\lib\\site-packages (from folium!=0.15.0,>=0.13->streamlit-folium) (1.24.3)\n",
      "Requirement already satisfied: requests in c:\\users\\meera\\anaconda3\\lib\\site-packages (from folium!=0.15.0,>=0.13->streamlit-folium) (2.31.0)\n",
      "Requirement already satisfied: xyzservices in c:\\users\\meera\\anaconda3\\lib\\site-packages (from folium!=0.15.0,>=0.13->streamlit-folium) (2022.9.0)\n",
      "Requirement already satisfied: MarkupSafe>=2.0 in c:\\users\\meera\\anaconda3\\lib\\site-packages (from jinja2->streamlit-folium) (2.1.1)\n",
      "Requirement already satisfied: altair<6,>=4.0 in c:\\users\\meera\\anaconda3\\lib\\site-packages (from streamlit>=1.13.0->streamlit-folium) (5.2.0)\n",
      "Requirement already satisfied: blinker<2,>=1.0.0 in c:\\users\\meera\\anaconda3\\lib\\site-packages (from streamlit>=1.13.0->streamlit-folium) (1.7.0)\n",
      "Requirement already satisfied: cachetools<6,>=4.0 in c:\\users\\meera\\anaconda3\\lib\\site-packages (from streamlit>=1.13.0->streamlit-folium) (5.3.2)\n",
      "Requirement already satisfied: click<9,>=7.0 in c:\\users\\meera\\anaconda3\\lib\\site-packages (from streamlit>=1.13.0->streamlit-folium) (8.0.4)\n",
      "Requirement already satisfied: importlib-metadata<8,>=1.4 in c:\\users\\meera\\anaconda3\\lib\\site-packages (from streamlit>=1.13.0->streamlit-folium) (6.0.0)\n",
      "Requirement already satisfied: packaging<24,>=16.8 in c:\\users\\meera\\anaconda3\\lib\\site-packages (from streamlit>=1.13.0->streamlit-folium) (23.1)\n",
      "Requirement already satisfied: pandas<3,>=1.3.0 in c:\\users\\meera\\anaconda3\\lib\\site-packages (from streamlit>=1.13.0->streamlit-folium) (2.0.3)\n",
      "Requirement already satisfied: pillow<11,>=7.1.0 in c:\\users\\meera\\anaconda3\\lib\\site-packages (from streamlit>=1.13.0->streamlit-folium) (9.4.0)\n",
      "Requirement already satisfied: protobuf<5,>=3.20 in c:\\users\\meera\\anaconda3\\lib\\site-packages (from streamlit>=1.13.0->streamlit-folium) (4.25.2)\n",
      "Requirement already satisfied: pyarrow>=6.0 in c:\\users\\meera\\anaconda3\\lib\\site-packages (from streamlit>=1.13.0->streamlit-folium) (11.0.0)\n",
      "Requirement already satisfied: python-dateutil<3,>=2.7.3 in c:\\users\\meera\\anaconda3\\lib\\site-packages (from streamlit>=1.13.0->streamlit-folium) (2.8.2)\n",
      "Requirement already satisfied: rich<14,>=10.14.0 in c:\\users\\meera\\anaconda3\\lib\\site-packages (from streamlit>=1.13.0->streamlit-folium) (13.7.0)\n",
      "Requirement already satisfied: tenacity<9,>=8.1.0 in c:\\users\\meera\\anaconda3\\lib\\site-packages (from streamlit>=1.13.0->streamlit-folium) (8.2.2)\n",
      "Requirement already satisfied: toml<2,>=0.10.1 in c:\\users\\meera\\anaconda3\\lib\\site-packages (from streamlit>=1.13.0->streamlit-folium) (0.10.2)\n",
      "Requirement already satisfied: typing-extensions<5,>=4.3.0 in c:\\users\\meera\\anaconda3\\lib\\site-packages (from streamlit>=1.13.0->streamlit-folium) (4.7.1)\n",
      "Requirement already satisfied: tzlocal<6,>=1.1 in c:\\users\\meera\\anaconda3\\lib\\site-packages (from streamlit>=1.13.0->streamlit-folium) (5.2)\n",
      "Requirement already satisfied: validators<1,>=0.2 in c:\\users\\meera\\anaconda3\\lib\\site-packages (from streamlit>=1.13.0->streamlit-folium) (0.22.0)\n",
      "Requirement already satisfied: gitpython!=3.1.19,<4,>=3.0.7 in c:\\users\\meera\\anaconda3\\lib\\site-packages (from streamlit>=1.13.0->streamlit-folium) (3.1.41)\n",
      "Requirement already satisfied: pydeck<1,>=0.8.0b4 in c:\\users\\meera\\anaconda3\\lib\\site-packages (from streamlit>=1.13.0->streamlit-folium) (0.8.1b0)\n",
      "Requirement already satisfied: tornado<7,>=6.0.3 in c:\\users\\meera\\anaconda3\\lib\\site-packages (from streamlit>=1.13.0->streamlit-folium) (6.3.2)\n",
      "Requirement already satisfied: watchdog>=2.1.5 in c:\\users\\meera\\anaconda3\\lib\\site-packages (from streamlit>=1.13.0->streamlit-folium) (2.1.6)\n",
      "Requirement already satisfied: jsonschema>=3.0 in c:\\users\\meera\\anaconda3\\lib\\site-packages (from altair<6,>=4.0->streamlit>=1.13.0->streamlit-folium) (4.17.3)\n",
      "Requirement already satisfied: toolz in c:\\users\\meera\\anaconda3\\lib\\site-packages (from altair<6,>=4.0->streamlit>=1.13.0->streamlit-folium) (0.12.0)\n",
      "Requirement already satisfied: colorama in c:\\users\\meera\\anaconda3\\lib\\site-packages (from click<9,>=7.0->streamlit>=1.13.0->streamlit-folium) (0.4.6)\n",
      "Requirement already satisfied: gitdb<5,>=4.0.1 in c:\\users\\meera\\anaconda3\\lib\\site-packages (from gitpython!=3.1.19,<4,>=3.0.7->streamlit>=1.13.0->streamlit-folium) (4.0.11)\n",
      "Requirement already satisfied: zipp>=0.5 in c:\\users\\meera\\anaconda3\\lib\\site-packages (from importlib-metadata<8,>=1.4->streamlit>=1.13.0->streamlit-folium) (3.11.0)\n",
      "Requirement already satisfied: pytz>=2020.1 in c:\\users\\meera\\anaconda3\\lib\\site-packages (from pandas<3,>=1.3.0->streamlit>=1.13.0->streamlit-folium) (2023.3.post1)\n",
      "Requirement already satisfied: tzdata>=2022.1 in c:\\users\\meera\\anaconda3\\lib\\site-packages (from pandas<3,>=1.3.0->streamlit>=1.13.0->streamlit-folium) (2023.3)\n",
      "Requirement already satisfied: six>=1.5 in c:\\users\\meera\\anaconda3\\lib\\site-packages (from python-dateutil<3,>=2.7.3->streamlit>=1.13.0->streamlit-folium) (1.16.0)\n",
      "Requirement already satisfied: charset-normalizer<4,>=2 in c:\\users\\meera\\anaconda3\\lib\\site-packages (from requests->folium!=0.15.0,>=0.13->streamlit-folium) (2.0.4)\n",
      "Requirement already satisfied: idna<4,>=2.5 in c:\\users\\meera\\anaconda3\\lib\\site-packages (from requests->folium!=0.15.0,>=0.13->streamlit-folium) (3.4)\n",
      "Requirement already satisfied: urllib3<3,>=1.21.1 in c:\\users\\meera\\anaconda3\\lib\\site-packages (from requests->folium!=0.15.0,>=0.13->streamlit-folium) (1.26.16)\n",
      "Requirement already satisfied: certifi>=2017.4.17 in c:\\users\\meera\\anaconda3\\lib\\site-packages (from requests->folium!=0.15.0,>=0.13->streamlit-folium) (2023.7.22)\n",
      "Requirement already satisfied: markdown-it-py>=2.2.0 in c:\\users\\meera\\anaconda3\\lib\\site-packages (from rich<14,>=10.14.0->streamlit>=1.13.0->streamlit-folium) (2.2.0)\n",
      "Requirement already satisfied: pygments<3.0.0,>=2.13.0 in c:\\users\\meera\\anaconda3\\lib\\site-packages (from rich<14,>=10.14.0->streamlit>=1.13.0->streamlit-folium) (2.15.1)\n",
      "Requirement already satisfied: smmap<6,>=3.0.1 in c:\\users\\meera\\anaconda3\\lib\\site-packages (from gitdb<5,>=4.0.1->gitpython!=3.1.19,<4,>=3.0.7->streamlit>=1.13.0->streamlit-folium) (5.0.1)\n",
      "Requirement already satisfied: attrs>=17.4.0 in c:\\users\\meera\\anaconda3\\lib\\site-packages (from jsonschema>=3.0->altair<6,>=4.0->streamlit>=1.13.0->streamlit-folium) (23.1.0)\n",
      "Requirement already satisfied: pyrsistent!=0.17.0,!=0.17.1,!=0.17.2,>=0.14.0 in c:\\users\\meera\\anaconda3\\lib\\site-packages (from jsonschema>=3.0->altair<6,>=4.0->streamlit>=1.13.0->streamlit-folium) (0.18.0)\n",
      "Requirement already satisfied: mdurl~=0.1 in c:\\users\\meera\\anaconda3\\lib\\site-packages (from markdown-it-py>=2.2.0->rich<14,>=10.14.0->streamlit>=1.13.0->streamlit-folium) (0.1.0)\n",
      "Note: you may need to restart the kernel to use updated packages.\n"
     ]
    }
   ],
   "source": [
    "pip install streamlit-folium"
   ]
  },
  {
   "cell_type": "code",
   "execution_count": null,
   "id": "c7417fe2",
   "metadata": {},
   "outputs": [],
   "source": []
  }
 ],
 "metadata": {
  "kernelspec": {
   "display_name": "Python 3 (ipykernel)",
   "language": "python",
   "name": "python3"
  },
  "language_info": {
   "codemirror_mode": {
    "name": "ipython",
    "version": 3
   },
   "file_extension": ".py",
   "mimetype": "text/x-python",
   "name": "python",
   "nbconvert_exporter": "python",
   "pygments_lexer": "ipython3",
   "version": "3.11.5"
  }
 },
 "nbformat": 4,
 "nbformat_minor": 5
}
