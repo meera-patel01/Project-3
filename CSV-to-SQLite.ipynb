{
 "cells": [
  {
   "cell_type": "code",
   "execution_count": 1,
   "id": "978e2d75",
   "metadata": {},
   "outputs": [
    {
     "name": "stdout",
     "output_type": "stream",
     "text": [
      "Requirement already satisfied: csv-to-sqlite in c:\\users\\meera\\anaconda3\\lib\\site-packages (2.1.3)\n",
      "Requirement already satisfied: click in c:\\users\\meera\\anaconda3\\lib\\site-packages (from csv-to-sqlite) (8.0.4)\n",
      "Requirement already satisfied: colorama in c:\\users\\meera\\anaconda3\\lib\\site-packages (from click->csv-to-sqlite) (0.4.6)\n",
      "Note: you may need to restart the kernel to use updated packages.\n"
     ]
    }
   ],
   "source": [
    " pip install csv-to-sqlite"
   ]
  },
  {
   "cell_type": "code",
   "execution_count": 1,
   "id": "19207343",
   "metadata": {},
   "outputs": [],
   "source": [
    "import csv_to_sqlite"
   ]
  },
  {
   "cell_type": "code",
   "execution_count": 2,
   "id": "a8f5e8d3",
   "metadata": {},
   "outputs": [
    {
     "name": "stdout",
     "output_type": "stream",
     "text": [
      "\n",
      "Written 92473 rows into 5 tables in 0.656 seconds\n"
     ]
    },
    {
     "data": {
      "text/plain": [
       "92473"
      ]
     },
     "execution_count": 2,
     "metadata": {},
     "output_type": "execute_result"
    }
   ],
   "source": [
    "options = csv_to_sqlite.CsvOptions(typing_style=\"full\", encoding=\"UTF-8\") \n",
    "input_files = [\"datasets/IG_clean.csv\", \"datasets/Location_clean.csv\", \n",
    "               \"datasets/state-abbrevs.csv\", \"datasets/Temperature_clean.csv\", \n",
    "               \"datasets/USCrime.csv\"]\n",
    "csv_to_sqlite.write_csv(input_files, \"database/travel_db.sqlite\", options)"
   ]
  },
  {
   "cell_type": "code",
   "execution_count": null,
   "id": "13eab6a2",
   "metadata": {},
   "outputs": [],
   "source": []
  }
 ],
 "metadata": {
  "kernelspec": {
   "display_name": "Python 3 (ipykernel)",
   "language": "python",
   "name": "python3"
  },
  "language_info": {
   "codemirror_mode": {
    "name": "ipython",
    "version": 3
   },
   "file_extension": ".py",
   "mimetype": "text/x-python",
   "name": "python",
   "nbconvert_exporter": "python",
   "pygments_lexer": "ipython3",
   "version": "3.11.5"
  }
 },
 "nbformat": 4,
 "nbformat_minor": 5
}
